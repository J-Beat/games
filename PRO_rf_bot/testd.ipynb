{
 "cells": [
  {
   "cell_type": "code",
   "execution_count": 1,
   "metadata": {},
   "outputs": [],
   "source": [
    "import json"
   ]
  },
  {
   "cell_type": "code",
   "execution_count": 37,
   "metadata": {},
   "outputs": [],
   "source": [
    "data = {\n",
    "    'main_page': {\n",
    "        'main_greating': '''\n",
    "            Привет и добро пожаловать в бот Продажи.рф! 😀\n",
    "            Продажи.рф - современный сервис для анализа статистики розничных продаж в режиме онлайн. С помощью него можно:\n",
    "                • Получить общую информацию о продажах в России\n",
    "                • Найти данные по брендам в более чем 100 товарных категориях\n",
    "                • Посмотреть детальную аналитику по выбранному бренду – средняя цена, динамика, доля в категории и многое другое\n",
    "            Бот поможет узнать сервис поближе, разобраться в его функционале, ответить на основные вопросы. \n",
    "            Также ты всегда можешь задать свой вопрос в чате, наши менеджеры отвечают быстро! Оставайся с нами на связи!''',\n",
    "        \n",
    "        'main_question': '''\n",
    "            Если у тебя есть вопросы, пиши в наш отдел заботы (или чат). \n",
    "            Наши менеджеры расскажут детали, помогут разобраться с функционалом сервиса или оформят подписку. \n",
    "            Отвечаем быстро в пн-пт с 9:00 до 18:00 по МСК''',\n",
    "        \n",
    "        'main_site' : \n",
    "            'Вижу, что тебе интересен сервис! Ты уже сейчас можешь протестировать его базовый функционал прямо на сайте Продажи.рф, перейди по ссылке или вбей название в строку браузера. Если ты хочешь получать больше материалов и первым узнавать об обновлениях сервиса, советуем подписаться на наш канал ',\n",
    "        \n",
    "        'main_about' : '''\n",
    "            Продажи.рф - современный сервис для анализа статистики розничных продаж в режиме онлайн. Создан в партнерстве с Первым ОФД (входит в группу ВТБ). \n",
    "            Ключевые характеристики: \n",
    "                • Готовые графики, легкий доступ к данным на сайте проекта\n",
    "                • Содержит более 100 категорий FMCG\n",
    "                • Статистика на уровне бренда\n",
    "                • Основные показатели: динамика и индекс продаж в рублях и штуках, средняя цена, доля в штуках\n",
    "                • Вся Россия, регионы, города\n",
    "                • Тренд с января 2021г., разбивка продаж вплоть до дня\n",
    "                • Ежедневное обновление данных, онлайн-доступ к продажам за вчера\n",
    "                • Просмотр через личный кабинет по подписке\n",
    "            В сервисе используются:\n",
    "                • Первичные данные покупок (источник – ОФД)\n",
    "                • Аналитика на основе продаж порядка 350 тысяч торговых точек из различных сфер бизнеса: розничная торговля, horeca, услуги и пр.\n",
    "                • Знания и опыт команды профессионалов, работавших ранее в крупнейших маркетинговых агентствах и топ FMCG компаниях и реализовавших более 250 успешных проектов на данных ОФД\n",
    "            Мы специально разобрали все наиболее часто встречающиеся вопросы о сервисе в блоке «База знаний», выбирай в меню нужный тебе пункт и получай информацию! Также ты всегда можешь задать свой вопрос в чате, наши менеджеры отвечают быстро! ''',\n",
    "        \n",
    "        'knowlege_base':{\n",
    "            'main': 'В этом разделе будет много полезной информации и классных материалов. Что тебя интересует?',\n",
    "            'general_func_main':'Здесь ты узнаешь какая информация доступна на страницах сервиса, как рассчитываются показатели, как пользоваться фильтрами и многое другое. Все статьи собраны по тематикам, выбирай нужную нажав на кнопку',\n",
    "            'service_pages':{\n",
    "                'main':'''\n",
    "                    ⚡️ Главная страница: краткое содержание\n",
    "\n",
    "                    ▫️накопленный итог по всем продажам в рублях с 1 января 2021 года;\n",
    "                    ▫️средняя цена одной покупки и средний чек (за сегодня);\n",
    "                    ▫️категории с самым значительным изменением средней цены за сегодняшний день по сравнению с прошлым годом;\n",
    "                    ▫️понедельное изменение общего объема продаж по сравнению с прошлым годом\n",
    "                    ''',\n",
    "                \n",
    "                'search':'''\n",
    "                    🔎 Страница поиска по ключевым словам: краткое содержание\n",
    "\n",
    "                    ▪️средняя цена;\n",
    "                    ▪️распределение продаж по ценовым значениям;\n",
    "                    ▪️динамика цены;\n",
    "                    ▪️график изменения цены по неделям за последние 12 месяцев;\n",
    "                    ▪️доля бренда в категории в штуках;\n",
    "                    ▪️динамика продаж в штуках\n",
    "\n",
    "                    ! Все показатели представлены по данным за вчерашний день, динамика рассчитана в сравнении с прошлым годом''',\n",
    "\n",
    "                'brands':'''\n",
    "                    🚀 Страница бренда: краткое содержание\n",
    "\n",
    "                    🔸статистика средней цены;\n",
    "                    🔸индекс продаж в штуках и рублях (показывает изменение продаж относительно базового периода - начала 2021 года);\n",
    "                    🔸динамика продаж в штуках и рублях;\n",
    "                    🔸доля в категории в штуках\n",
    "\n",
    "                    ! На экране базово выведены данные за последние 3 месяца. При этом вам доступна статистика с 1 января 2021 года, просто задайте нужный период в фильтре\n",
    "\n",
    "                    !! По умолчанию представлена разбивка периода по дням, также вы можете выбрать отображение по неделям или месяцам'''\n",
    "            }\n",
    "        }\n",
    "\n",
    "\n",
    "    },\n",
    "    'support_page':{\n",
    "        'support_greating' : '''\n",
    "            Привет!\n",
    "            Здесь можно задать вопросы про Продажи.рф.\n",
    "            Наши менеджеры расскажут детали, помогут разобраться с функционалом сервиса или оформят подписку. \n",
    "            Отвечаем быстро в пн-пт с 9:00 до 18:00 по МСК\n",
    "            Задайте свой вопрос!'''\n",
    "    },\n",
    "\n",
    "    \n",
    "}\n",
    "\n",
    "\n",
    "\n"
   ]
  },
  {
   "cell_type": "code",
   "execution_count": 39,
   "metadata": {},
   "outputs": [],
   "source": [
    "with open(\"texts.json\", \"w\") as write_file:\n",
    "    json.dump(data, write_file, ensure_ascii=False, indent=4)"
   ]
  },
  {
   "cell_type": "code",
   "execution_count": 27,
   "metadata": {},
   "outputs": [],
   "source": [
    "json_string = json.dumps(data, ensure_ascii=False, indent=4)"
   ]
  },
  {
   "cell_type": "code",
   "execution_count": 34,
   "metadata": {},
   "outputs": [],
   "source": [
    "with open(\"texts.json\", \"r\") as read_file:\n",
    "    data = json.load(read_file)"
   ]
  },
  {
   "cell_type": "code",
   "execution_count": 36,
   "metadata": {},
   "outputs": [
    {
     "data": {
      "text/plain": [
       "'Вижу, что тебе интересен сервис! Ты уже сейчас можешь протестировать его базовый функционал прямо на сайте Продажи.рф, перейди по ссылке или вбей название в строку браузера. Если ты хочешь получать больше материалов и первым узнавать об обновлениях сервиса, советуем подписаться на наш канал '"
      ]
     },
     "execution_count": 36,
     "metadata": {},
     "output_type": "execute_result"
    }
   ],
   "source": [
    "data['main_page']['main_site']"
   ]
  },
  {
   "cell_type": "code",
   "execution_count": 10,
   "metadata": {},
   "outputs": [
    {
     "data": {
      "text/plain": [
       "[[1, 2], [3, 4], [5]]"
      ]
     },
     "execution_count": 10,
     "metadata": {},
     "output_type": "execute_result"
    }
   ],
   "source": [
    "p = [1, 2, 3, 4, 5]\n",
    "res = []\n",
    "for i in range(0, len(p), 2):\n",
    "    try:\n",
    "        res.append([p[i], p[i+1]])\n",
    "    except IndexError:\n",
    "        res.append([p[i]])\n",
    "res"
   ]
  },
  {
   "cell_type": "code",
   "execution_count": 12,
   "metadata": {},
   "outputs": [],
   "source": [
    "import functions as func\n",
    "texts = func.get_texts()"
   ]
  },
  {
   "cell_type": "code",
   "execution_count": 71,
   "metadata": {},
   "outputs": [],
   "source": [
    "def get_all_buttons(path: dict) -> list:\n",
    "    # print(path)\n",
    "    buttons_list = []\n",
    "    for v in path.values():\n",
    "        if type(v) == dict:\n",
    "            val = get_all_buttons(v)\n",
    "            print(val, type(val))\n",
    "            buttons_list.extend(val)\n",
    "        elif type(v) == str:\n",
    "            buttons_list.append(v)\n",
    "    return buttons_list\n",
    "        # print(v)\n",
    "        # print(path[v])\n",
    "        # buttons_list.extend(texts['keyboards'][v].values())"
   ]
  },
  {
   "cell_type": "code",
   "execution_count": 72,
   "metadata": {},
   "outputs": [
    {
     "name": "stdout",
     "output_type": "stream",
     "text": [
      "['📈 Сайт, Телеграм-канал', '🧾 О сервисе', '💵 Узнать стоимость', '📅 Оформить подписку', '📑 База знаний (FAQs)', '❓ Задать вопрос', '🔙 Главное меню'] <class 'list'>\n",
      "['💰 Раздел цены', '📅 Оформить подписку'] <class 'list'>\n",
      "['❓ FAQ', '🔍 Основной функционал сервиса', '⬅️ Главное меню'] <class 'list'>\n",
      "['Как оформить подписку на сайте?', 'Где узнать про цены на сайте?', 'Какие категории сейчас доступны?', 'Откуда у Вас данные?', 'Как работать с фильтрами на сайте?'] <class 'list'>\n",
      "['❓ FAQ', '🔍 Основной функционал сервиса', '⬅️ Главное меню', 'Как оформить подписку на сайте?', 'Где узнать про цены на сайте?', 'Какие категории сейчас доступны?', 'Откуда у Вас данные?', 'Как работать с фильтрами на сайте?'] <class 'list'>\n"
     ]
    },
    {
     "data": {
      "text/plain": [
       "['📈 Сайт, Телеграм-канал',\n",
       " '🧾 О сервисе',\n",
       " '💵 Узнать стоимость',\n",
       " '📅 Оформить подписку',\n",
       " '📑 База знаний (FAQs)',\n",
       " '❓ Задать вопрос',\n",
       " '🔙 Главное меню',\n",
       " '💰 Раздел цены',\n",
       " '📅 Оформить подписку',\n",
       " '❓ FAQ',\n",
       " '🔍 Основной функционал сервиса',\n",
       " '⬅️ Главное меню',\n",
       " 'Как оформить подписку на сайте?',\n",
       " 'Где узнать про цены на сайте?',\n",
       " 'Какие категории сейчас доступны?',\n",
       " 'Откуда у Вас данные?',\n",
       " 'Как работать с фильтрами на сайте?']"
      ]
     },
     "execution_count": 72,
     "metadata": {},
     "output_type": "execute_result"
    }
   ],
   "source": [
    "get_all_buttons(texts['keyboards'])"
   ]
  },
  {
   "cell_type": "code",
   "execution_count": 76,
   "metadata": {},
   "outputs": [
    {
     "data": {
      "text/plain": [
       "[1, 2]"
      ]
     },
     "execution_count": 76,
     "metadata": {},
     "output_type": "execute_result"
    }
   ],
   "source": [
    "d = {'a':1, 'b':2, 'c':3, 'd':4}\n",
    "list(d.values())[:2]"
   ]
  },
  {
   "cell_type": "code",
   "execution_count": 2,
   "metadata": {},
   "outputs": [],
   "source": [
    "with open(\"test/test.json\", \"r\") as read_file:\n",
    "    data = json.load(read_file)"
   ]
  },
  {
   "cell_type": "code",
   "execution_count": 11,
   "metadata": {},
   "outputs": [
    {
     "data": {
      "text/plain": [
       "{'text': 'Первая кнопка',\n",
       " 'stage': 'stage1',\n",
       " 'actions': {'text': 'Ты нажал на первую кнопку',\n",
       "  'markup': {'button1.1': {'text': 'button_1.1',\n",
       "    'actions': {'text': 'button_1.1 was clicked', 'stage': 'stage1.1'}},\n",
       "   'button1.2': {'text': 'button1.2',\n",
       "    'actions': {'text': 'button_1.2 was clicked', 'stage': '1.2'}}}}}"
      ]
     },
     "execution_count": 11,
     "metadata": {},
     "output_type": "execute_result"
    }
   ],
   "source": [
    "data['main_page']['markup']['button1']"
   ]
  },
  {
   "cell_type": "code",
   "execution_count": 16,
   "metadata": {},
   "outputs": [
    {
     "name": "stdout",
     "output_type": "stream",
     "text": [
      "main_page\n",
      "text\n",
      "Привет! Это тест! Понажимай ка на кнопочки.\n",
      "stage\n",
      "stage0\n",
      "markup\n",
      "button1\n",
      "text\n",
      "Первая кнопка\n",
      "stage\n",
      "stage1\n",
      "actions\n",
      "text\n",
      "Ты нажал на первую кнопку\n",
      "markup\n",
      "button1.1\n",
      "text\n",
      "button_1.1\n",
      "actions\n",
      "text\n",
      "button_1.1 was clicked\n",
      "stage\n",
      "stage1.1\n",
      "button1.2\n",
      "text\n",
      "button1.2\n",
      "actions\n",
      "text\n",
      "button_1.2 was clicked\n",
      "stage\n",
      "1.2\n"
     ]
    },
    {
     "ename": "",
     "evalue": "",
     "output_type": "error",
     "traceback": [
      "\u001b[1;31mThe Kernel crashed while executing code in the the current cell or a previous cell. Please review the code in the cell(s) to identify a possible cause of the failure. Click <a href='https://aka.ms/vscodeJupyterKernelCrash'>here</a> for more info. View Jupyter <a href='command:jupyter.viewOutput'>log</a> for further details."
     ]
    }
   ],
   "source": [
    "def func(data):\n",
    "    for k, v in data.items():\n",
    "        print(k)\n",
    "        # print(v)\n",
    "        #['text'], v['stage'])\n",
    "        if type(v) != str:\n",
    "            func(v)\n",
    "        else: print(v)\n",
    "\n",
    "func(data)"
   ]
  },
  {
   "cell_type": "code",
   "execution_count": 4,
   "metadata": {},
   "outputs": [
    {
     "ename": "SyntaxError",
     "evalue": "invalid syntax (669761885.py, line 7)",
     "output_type": "error",
     "traceback": [
      "\u001b[0;36m  Cell \u001b[0;32mIn [4], line 7\u001b[0;36m\u001b[0m\n\u001b[0;31m    case s[0]:\u001b[0m\n\u001b[0m          ^\u001b[0m\n\u001b[0;31mSyntaxError\u001b[0m\u001b[0;31m:\u001b[0m invalid syntax\n"
     ]
    }
   ],
   "source": [
    "p = 'a'\n",
    "s = [\"a\", \"a\"]\n",
    "\n",
    "match p:\n",
    "    case \"b\":\n",
    "        print(False)\n",
    "    case s[0]:\n",
    "        print(True)"
   ]
  }
 ],
 "metadata": {
  "kernelspec": {
   "display_name": "Python 3.10.8 64-bit",
   "language": "python",
   "name": "python3"
  },
  "language_info": {
   "codemirror_mode": {
    "name": "ipython",
    "version": 3
   },
   "file_extension": ".py",
   "mimetype": "text/x-python",
   "name": "python",
   "nbconvert_exporter": "python",
   "pygments_lexer": "ipython3",
   "version": "3.10.8"
  },
  "orig_nbformat": 4,
  "vscode": {
   "interpreter": {
    "hash": "97cc609b13305c559618ec78a438abc56230b9381f827f22d070313b9a1f3777"
   }
  }
 },
 "nbformat": 4,
 "nbformat_minor": 2
}
